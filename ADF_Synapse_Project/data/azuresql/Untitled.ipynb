{
 "cells": [
  {
   "cell_type": "code",
   "execution_count": 1,
   "id": "94787431-2afd-4180-b976-b5fee7c6f0e2",
   "metadata": {},
   "outputs": [],
   "source": [
    "from pyspark.sql import SparkSession\n",
    "\n",
    "# Create a Spark session (local cluster)\n",
    "spark = SparkSession.builder \\\n",
    "    .appName(\"LocalSparkCluster\") \\\n",
    "    .getOrCreate()"
   ]
  },
  {
   "cell_type": "code",
   "execution_count": 3,
   "id": "04458bbe-4d8c-4c78-879d-f17b3850c09c",
   "metadata": {},
   "outputs": [
    {
     "name": "stdout",
     "output_type": "stream",
     "text": [
      "root\n",
      " |-- sales_sk: integer (nullable = true)\n",
      " |-- sales_id: string (nullable = true)\n",
      " |-- customer_sk: integer (nullable = true)\n",
      " |-- product_sk: integer (nullable = true)\n",
      " |-- store_sk: integer (nullable = true)\n",
      " |-- salesperson_sk: integer (nullable = true)\n",
      " |-- campaign_sk: integer (nullable = true)\n",
      " |-- sales_date: date (nullable = true)\n",
      " |-- total_amount: double (nullable = true)\n",
      "\n"
     ]
    }
   ],
   "source": [
    "df = spark.read.parquet(\"sales.parquet\")\n",
    "df.printSchema()"
   ]
  },
  {
   "cell_type": "code",
   "execution_count": null,
   "id": "e2ac966b-b149-4880-b1b7-283d98da92c8",
   "metadata": {},
   "outputs": [],
   "source": []
  }
 ],
 "metadata": {
  "kernelspec": {
   "display_name": "Python 3 (ipykernel)",
   "language": "python",
   "name": "python3"
  },
  "language_info": {
   "codemirror_mode": {
    "name": "ipython",
    "version": 3
   },
   "file_extension": ".py",
   "mimetype": "text/x-python",
   "name": "python",
   "nbconvert_exporter": "python",
   "pygments_lexer": "ipython3",
   "version": "3.12.3"
  }
 },
 "nbformat": 4,
 "nbformat_minor": 5
}
