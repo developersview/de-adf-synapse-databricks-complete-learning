{
 "cells": [
  {
   "cell_type": "code",
   "execution_count": 7,
   "id": "d2701361-f2fe-4d36-b0ba-8ac9baaf7b4b",
   "metadata": {},
   "outputs": [
    {
     "name": "stdout",
     "output_type": "stream",
     "text": [
      "✅ Successfully created SQL file: fact_sales.sql\n"
     ]
    }
   ],
   "source": [
    "import pandas as pd\n",
    "import csv\n",
    "\n",
    "# Set the input and output file names\n",
    "csv_file_name = \"fact_sales_normalized.csv\"\n",
    "sql_file_name = \"fact_sales.sql\"\n",
    "table_name = \"fact_sales\"\n",
    "\n",
    "# Step 1: Infer column data types and generate CREATE TABLE statement\n",
    "try:\n",
    "    df_sample = pd.read_csv(csv_file_name, nrows=50)  # take first 50 rows for better type inference\n",
    "    dtype_mapping = {\n",
    "        'int64': 'INT',\n",
    "        'float64': 'FLOAT',\n",
    "        'object': 'VARCHAR(255)'\n",
    "    }\n",
    "\n",
    "    columns_sql = []\n",
    "    for col, dtype in df_sample.dtypes.items():\n",
    "        sql_type = dtype_mapping.get(str(dtype), 'VARCHAR(255)')\n",
    "        columns_sql.append(f\"    {col} {sql_type}\")   # removed backticks for SQL Server/Synapse\n",
    "\n",
    "    create_table_statement = f\"CREATE TABLE {table_name} (\\n\" + \",\\n\".join(columns_sql) + \"\\n);\\n\\n\"\n",
    "except Exception as e:\n",
    "    print(f\"Error reading CSV or inferring types: {e}\")\n",
    "    exit()\n",
    "\n",
    "# Step 2: Generate INSERT statements for all rows and write to file\n",
    "try:\n",
    "    with open(sql_file_name, 'w', encoding='utf-8') as sql_file:\n",
    "        sql_file.write(create_table_statement)\n",
    "\n",
    "        with open(csv_file_name, 'r', encoding='utf-8') as csv_file:\n",
    "            csv_reader = csv.reader(csv_file)\n",
    "            header = next(csv_reader)  # Skip header row\n",
    "\n",
    "            for row in csv_reader:\n",
    "                values = []\n",
    "                for (col, dtype), value in zip(df_sample.dtypes.items(), row):\n",
    "                    if value == '' or pd.isna(value):\n",
    "                        values.append('NULL')\n",
    "                    else:\n",
    "                        if 'int' in str(dtype) or 'float' in str(dtype):\n",
    "                            values.append(value)  # keep numeric unquoted\n",
    "                        else:\n",
    "                            safe_value = value.replace(\"'\", \"''\")  # escape single quotes\n",
    "                            values.append(f\"'{safe_value}'\")\n",
    "\n",
    "                insert_values = \", \".join(values)\n",
    "                insert_statement = f\"INSERT INTO {table_name} VALUES ({insert_values});\\n\"\n",
    "                sql_file.write(insert_statement)\n",
    "\n",
    "    print(f\"✅ Successfully created SQL file: {sql_file_name}\")\n",
    "\n",
    "except Exception as e:\n",
    "    print(f\"Error generating SQL statements: {e}\")\n"
   ]
  },
  {
   "cell_type": "code",
   "execution_count": null,
   "id": "4ec58783-b39e-4ed6-918e-6851c2ffda48",
   "metadata": {},
   "outputs": [],
   "source": []
  }
 ],
 "metadata": {
  "kernelspec": {
   "display_name": "Python 3 (ipykernel)",
   "language": "python",
   "name": "python3"
  },
  "language_info": {
   "codemirror_mode": {
    "name": "ipython",
    "version": 3
   },
   "file_extension": ".py",
   "mimetype": "text/x-python",
   "name": "python",
   "nbconvert_exporter": "python",
   "pygments_lexer": "ipython3",
   "version": "3.12.3"
  }
 },
 "nbformat": 4,
 "nbformat_minor": 5
}
